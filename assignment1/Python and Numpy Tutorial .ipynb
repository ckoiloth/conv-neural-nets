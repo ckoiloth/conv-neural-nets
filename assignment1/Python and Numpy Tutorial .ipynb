{
 "cells": [
  {
   "cell_type": "code",
   "execution_count": 5,
   "metadata": {},
   "outputs": [
    {
     "name": "stdout",
     "output_type": "stream",
     "text": [
      "[0, 1, 2, 3, 4]\n",
      "[2, 3]\n",
      "[2, 3, 4]\n",
      "[0, 1]\n",
      "[0, 1, 2, 3, 4]\n",
      "[0, 1, 2, 3]\n"
     ]
    }
   ],
   "source": [
    "#List Slicing \n",
    "\n",
    "nums = list(range(5))\n",
    "print(nums)\n",
    "print(nums[2:4])  #sub-list from element 2 to element 3(last index not included)\n",
    "print(nums[2:])   #prints from index to the very last element \n",
    "print(nums[:2])   #prints from the begining of list up until one before given index\n",
    "print(nums[:])    #prints everything, so python assumes beggining or ending if an index is not given \n",
    "print(nums[:-1])  #negative indices is an offset essentially. So print from 0 to -1 of what it was previously. \n"
   ]
  },
  {
   "cell_type": "code",
   "execution_count": 9,
   "metadata": {},
   "outputs": [
    {
     "name": "stdout",
     "output_type": "stream",
     "text": [
      "0\n",
      "1\n",
      "2\n"
     ]
    }
   ],
   "source": [
    "#enumerate \n",
    "animal = [\"cat\", \"dog\", \"house\"]\n",
    "for idx, animal in enumerate(animal):  #enumerate writtens a tuple of indices and the element\n",
    "    print(idx)"
   ]
  },
  {
   "cell_type": "code",
   "execution_count": 12,
   "metadata": {},
   "outputs": [
    {
     "name": "stdout",
     "output_type": "stream",
     "text": [
      "[0, 4, 16]\n"
     ]
    }
   ],
   "source": [
    "#list comprehension \n",
    "nums = [0 , 1, 2, 3 ,4]\n",
    "even_square = [x ** 2 for x in nums]  #x**2 squares, but important thing is that list comprehensions essentially \n",
    "#will create a new list so when wrapped in []\n",
    "\n",
    "nums = [x**2 for x in nums if x % 2 == 0]\n",
    "print(nums)"
   ]
  },
  {
   "cell_type": "code",
   "execution_count": 17,
   "metadata": {},
   "outputs": [
    {
     "name": "stdout",
     "output_type": "stream",
     "text": [
      "0\n",
      "cat 0\n",
      "dog 1\n",
      "animal 2\n"
     ]
    }
   ],
   "source": [
    "#dictionaries \n",
    "d = {'cat': 0, 'dog' : 1, 'animal' : '2'}\n",
    "\n",
    "print(d.get(\"cat\", 'NA'))    #default return if key isnt in the list is NA. If you were to use \n",
    "# d[\"NON_EXISTENT_KEY\"] it would return a keytype error\n",
    "\n",
    "for key, value in d.items():    #d.items return a tuple of key value pairs \n",
    "    print(key, value)"
   ]
  },
  {
   "cell_type": "code",
   "execution_count": 21,
   "metadata": {},
   "outputs": [
    {
     "name": "stdout",
     "output_type": "stream",
     "text": [
      "1\n",
      "5\n"
     ]
    }
   ],
   "source": [
    "#tuples : an immutable ordered list of values. \n",
    "\n",
    "t = (5, 6)\n",
    "d = {(x, x + 1) : (x) for x in range(0, 6)}   #dictionary comprehension to create a list of tuples \n",
    "\n",
    "print(d[(1, 2)])\n",
    "print(d[t])"
   ]
  },
  {
   "cell_type": "code",
   "execution_count": 22,
   "metadata": {},
   "outputs": [
    {
     "name": "stdout",
     "output_type": "stream",
     "text": [
      "0 tennis\n",
      "0 optional arguement\n"
     ]
    }
   ],
   "source": [
    "#functions\n",
    "\n",
    "#optional arguments \n",
    "def optional_args(i, x = \"optional arguement\"):\n",
    "    print(i , x)\n",
    "    \n",
    "    \n",
    "optional_args(0, \"tennis\")\n",
    "optional_args(0)"
   ]
  },
  {
   "cell_type": "code",
   "execution_count": 23,
   "metadata": {},
   "outputs": [
    {
     "name": "stdout",
     "output_type": "stream",
     "text": [
      "Chiru\n",
      "False\n"
     ]
    }
   ],
   "source": [
    "#classes \n",
    "\n",
    "class Greeter(object):           #utilize the object keyword\n",
    "    \n",
    "    def __init__(self, name):    #need to pass in self because python functions are objects, and they need to know \n",
    "        print(name)              #what instance of an object to call it on. \n",
    "        \n",
    "    def greet(self, loud = False):\n",
    "        print(loud)\n",
    "        \n",
    "g = Greeter(\"Chiru\")\n",
    "g.greet()"
   ]
  },
  {
   "cell_type": "code",
   "execution_count": 29,
   "metadata": {},
   "outputs": [],
   "source": [
    "#NUMPY SECTION STARTING \n",
    "import numpy as np "
   ]
  },
  {
   "cell_type": "code",
   "execution_count": 35,
   "metadata": {},
   "outputs": [
    {
     "name": "stdout",
     "output_type": "stream",
     "text": [
      "(3,)\n",
      "3 2 4\n",
      "[[1 2 3]\n",
      " [4 5 6]]\n",
      "(2, 3)\n",
      "1\n"
     ]
    }
   ],
   "source": [
    "#Creating Arrays \n",
    "\n",
    "a = np.array([3,2,4])\n",
    "print(a.shape)\n",
    "\n",
    "print(a[0], a[1], a[2])   #numpy arrays are created as column vectors, so indexing is also done column wise. \n",
    "\n",
    "b = np.array([[1,2,3], [4,5,6]]) #creates a rank 2 array [1,2,3] and [4,5,6] are rows of the array \n",
    "print(b)\n",
    "print(b.shape)\n",
    "\n",
    "#essentially numpy arrays can be thought of as arrays of arrays like in java, 2 dimensional arrays \n",
    "#in a matrix format, each list is a row\n"
   ]
  },
  {
   "cell_type": "code",
   "execution_count": 37,
   "metadata": {},
   "outputs": [],
   "source": [
    "#functions to create arrays \n",
    "a = np.zeros((2,3))  #creates a 2 by 3 matrix of 0s\n",
    "\n",
    "b = np.ones((1,2))   #creates an 1 by 2 matrix of all 1s \n",
    "\n",
    "c = np.full((2,2), 7) #creates a constant array"
   ]
  },
  {
   "cell_type": "code",
   "execution_count": 41,
   "metadata": {},
   "outputs": [
    {
     "name": "stdout",
     "output_type": "stream",
     "text": [
      "[[2 3]\n",
      " [4 5]]\n",
      "[5 6]\n"
     ]
    }
   ],
   "source": [
    "#indexing with numpy arrays \n",
    "\n",
    "a = np.array([[1,2,3], [3,4,5], [5,6,7]])\n",
    "\n",
    "b = a[:2, 1:3]    #essentially naming row and column indexes, so from 0 to 1 rows and 1 to 2 columns\n",
    "print(b)\n",
    "\n",
    "row_r1 = a[1, :]  #comma delimits the row and column indices when slicing, so this will get the first row and all columsn\n",
    "row_r2 = a[2, 0:2] # this will print out vectors \n",
    "\n",
    "print(row_r2)"
   ]
  },
  {
   "cell_type": "code",
   "execution_count": 49,
   "metadata": {},
   "outputs": [
    {
     "name": "stdout",
     "output_type": "stream",
     "text": [
      "[[ 6.  8.]\n",
      " [10. 11.]]\n",
      "[[ 6.  8.]\n",
      " [10. 11.]]\n",
      "[[ 5. 12.]\n",
      " [21. 24.]]\n"
     ]
    }
   ],
   "source": [
    "#Array Math \n",
    "\n",
    "x = np.array([[1,2], [3,3]], dtype = np.float64)\n",
    "y = np.array([[5,6], [7,8]], dtype = np.float64)\n",
    "\n",
    "\n",
    "print(x + y)    # this is element wise addition \n",
    "print(np.add(x, y))  #same thing \n",
    "\n",
    "\n",
    "print(x * y)  #this is element wise multiplication "
   ]
  },
  {
   "cell_type": "code",
   "execution_count": 52,
   "metadata": {},
   "outputs": [
    {
     "name": "stdout",
     "output_type": "stream",
     "text": [
      "[[19. 22.]\n",
      " [36. 42.]]\n",
      "[[26. 30.]\n",
      " [31. 36.]]\n"
     ]
    }
   ],
   "source": [
    "# Matrix Dot Products \n",
    "\n",
    "print(np.dot(x, y)) #this is actual matrix multiplication, i guess to get dot products you actually need to \n",
    "#multiply by transpose \n",
    "\n",
    "print(np.dot(x.T, y))"
   ]
  },
  {
   "cell_type": "code",
   "execution_count": 54,
   "metadata": {},
   "outputs": [
    {
     "name": "stdout",
     "output_type": "stream",
     "text": [
      "[[ 2  2  4]\n",
      " [ 5  5  7]\n",
      " [ 8  8 10]\n",
      " [11 11 13]]\n"
     ]
    }
   ],
   "source": [
    "# Why Broadcasting ??\n",
    "\n",
    "x = np.array([[1,2,3], [4,5,6], [7,8,9], [10, 11, 12]])\n",
    "v = np.array([1, 0, 1])\n",
    "y = np.empty_like(x)   # creates an empty matrix with the same shape as x \n",
    "\n",
    "\n",
    "for i in range(4):\n",
    "    y[i, :] = x[i, :] + v\n",
    "    \n",
    "print(y)    #this type of loop works but computing this when matrix is large is incredibly slow and time consuming, \n",
    "# hence broadcasting \n",
    "\n",
    "\n"
   ]
  },
  {
   "cell_type": "code",
   "execution_count": 59,
   "metadata": {},
   "outputs": [
    {
     "name": "stdout",
     "output_type": "stream",
     "text": [
      "[[ 2  2  4]\n",
      " [ 5  5  7]\n",
      " [ 8  8 10]\n",
      " [11 11 13]]\n"
     ]
    }
   ],
   "source": [
    "#Actual Example of Broadcasting \n",
    "\n",
    "x = np.array([[1,2,3], [4,5,6], [7,8,9], [10, 11, 12]])\n",
    "v = np.array([1, 0, 1])\n",
    "y = np.empty_like(x) \n",
    "\n",
    "\n",
    "y = x + v\n",
    "\n",
    "print(y)    #this is how broadcasting works \n",
    "\n",
    "# Rules For Broadcasting: \n",
    "\n",
    "    #Rule 1: If two arrays do not have the same rank, prepend the shape of the lower rank array until both have \n",
    "    #        same length shapes.\n",
    "    \n",
    "    #Rule 2: Two arrays are said to be compatible in dimension when they have the same size in that dimension.\n",
    "    #        or if one of the arrays has size 1 in that dimension. \n",
    "    \n",
    "    #Rule 3: The arrays can be broadcasted together if they are compatible in all dimensions.\n",
    "    \n",
    "    #Rule 4: After Broadcasting, each array behaves as if it had the shape equal to its elementwise maximum \n",
    "    #        of shapes of two input arrays. \n",
    "    \n",
    "    #Rule 5: In any dimension where one array had size 1 and the other array had size greater than 1, the first \n",
    "    #        array behaves as it were copied along that dimension. "
   ]
  },
  {
   "cell_type": "code",
   "execution_count": null,
   "metadata": {},
   "outputs": [],
   "source": []
  }
 ],
 "metadata": {
  "kernelspec": {
   "display_name": "Python 3",
   "language": "python",
   "name": "python3"
  },
  "language_info": {
   "codemirror_mode": {
    "name": "ipython",
    "version": 3
   },
   "file_extension": ".py",
   "mimetype": "text/x-python",
   "name": "python",
   "nbconvert_exporter": "python",
   "pygments_lexer": "ipython3",
   "version": "3.6.4"
  }
 },
 "nbformat": 4,
 "nbformat_minor": 2
}
